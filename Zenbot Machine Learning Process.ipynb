{
 "cells": [
  {
   "cell_type": "markdown",
   "id": "c3cd0fca",
   "metadata": {},
   "source": [
    "<img src=\"https://github.com/WeiTaKuan/zenbot_tading_algorithm/blob/main/ZenBotLogo.png\" width=\"100px\" align=\"left\"/>"
   ]
  },
  {
   "cell_type": "markdown",
   "id": "492e9616",
   "metadata": {},
   "source": [
    "# Zenbot Machine Learning Training Process"
   ]
  },
  {
   "cell_type": "markdown",
   "id": "f06e6cce",
   "metadata": {},
   "source": [
    "- Author: Max Kuan\n",
    "- Last Update: 2022.05.02\n",
    "- Language: Python 3.9.12\n",
    "- Data Soucre: Backtested Trading Result from [FXTM](http://www.forextime.com/zh-tw/register/open-account?raf=fa060479) Metatrader 5 Account"
   ]
  },
  {
   "cell_type": "markdown",
   "id": "33df2bb7",
   "metadata": {},
   "source": [
    "### Description\n",
    "\n",
    "Zenbot is an automatic reversal trading algorithm. It was first released on **2021.10.31** and is now upgraded into a new version. I feel a great sense of achievement for this upgrade. The new Zenbot uses machine learning techniques to identify the position type while entering a trade. This notebook provides my personal opinion on how to build a model **step-by-step** and **setup customises metrics** to evaluate the model performance."
   ]
  },
  {
   "cell_type": "code",
   "execution_count": 36,
   "id": "19cfa58e",
   "metadata": {},
   "outputs": [],
   "source": [
    "import pandas as pd \n",
    "pd.options.mode.chained_assignment = None\n",
    "import numpy as np\n",
    "from collections import Counter"
   ]
  },
  {
   "cell_type": "code",
   "execution_count": 37,
   "id": "3e036728",
   "metadata": {},
   "outputs": [],
   "source": [
    "from sklearn.preprocessing import StandardScaler\n",
    "from sklearn.model_selection import train_test_split\n",
    "from sklearn.linear_model import LogisticRegression\n",
    "from sklearn.ensemble import RandomForestClassifier\n",
    "from sklearn.metrics import accuracy_score"
   ]
  },
  {
   "cell_type": "code",
   "execution_count": 38,
   "id": "6e370afd",
   "metadata": {},
   "outputs": [],
   "source": [
    "data = pd.read_csv('trading_result.csv')"
   ]
  },
  {
   "cell_type": "code",
   "execution_count": 39,
   "id": "293ff8db",
   "metadata": {},
   "outputs": [
    {
     "data": {
      "text/html": [
       "<div>\n",
       "<style scoped>\n",
       "    .dataframe tbody tr th:only-of-type {\n",
       "        vertical-align: middle;\n",
       "    }\n",
       "\n",
       "    .dataframe tbody tr th {\n",
       "        vertical-align: top;\n",
       "    }\n",
       "\n",
       "    .dataframe thead th {\n",
       "        text-align: right;\n",
       "    }\n",
       "</style>\n",
       "<table border=\"1\" class=\"dataframe\">\n",
       "  <thead>\n",
       "    <tr style=\"text-align: right;\">\n",
       "      <th></th>\n",
       "      <th>time</th>\n",
       "      <th>tick_volume</th>\n",
       "      <th>spread</th>\n",
       "      <th>moving_average</th>\n",
       "      <th>bias_ma</th>\n",
       "      <th>volume_ma</th>\n",
       "      <th>vol_change</th>\n",
       "      <th>K</th>\n",
       "      <th>D</th>\n",
       "      <th>type</th>\n",
       "      <th>profit</th>\n",
       "      <th>label</th>\n",
       "    </tr>\n",
       "  </thead>\n",
       "  <tbody>\n",
       "    <tr>\n",
       "      <th>0</th>\n",
       "      <td>2009/1/2</td>\n",
       "      <td>678</td>\n",
       "      <td>20</td>\n",
       "      <td>1.402423</td>\n",
       "      <td>-0.007718</td>\n",
       "      <td>783.0</td>\n",
       "      <td>0.994286</td>\n",
       "      <td>59.000000</td>\n",
       "      <td>29.526940</td>\n",
       "      <td>short</td>\n",
       "      <td>149</td>\n",
       "      <td>1</td>\n",
       "    </tr>\n",
       "    <tr>\n",
       "      <th>1</th>\n",
       "      <td>2009/1/2</td>\n",
       "      <td>579</td>\n",
       "      <td>20</td>\n",
       "      <td>1.400623</td>\n",
       "      <td>-0.008584</td>\n",
       "      <td>775.8</td>\n",
       "      <td>0.974256</td>\n",
       "      <td>22.480620</td>\n",
       "      <td>50.904393</td>\n",
       "      <td>long</td>\n",
       "      <td>169</td>\n",
       "      <td>1</td>\n",
       "    </tr>\n",
       "    <tr>\n",
       "      <th>2</th>\n",
       "      <td>2009/1/2</td>\n",
       "      <td>521</td>\n",
       "      <td>20</td>\n",
       "      <td>1.397657</td>\n",
       "      <td>-0.004047</td>\n",
       "      <td>681.7</td>\n",
       "      <td>0.980299</td>\n",
       "      <td>74.766355</td>\n",
       "      <td>31.142187</td>\n",
       "      <td>short</td>\n",
       "      <td>314</td>\n",
       "      <td>1</td>\n",
       "    </tr>\n",
       "    <tr>\n",
       "      <th>3</th>\n",
       "      <td>2009/1/5</td>\n",
       "      <td>808</td>\n",
       "      <td>20</td>\n",
       "      <td>1.395407</td>\n",
       "      <td>-0.006956</td>\n",
       "      <td>567.4</td>\n",
       "      <td>0.947404</td>\n",
       "      <td>12.500000</td>\n",
       "      <td>56.391491</td>\n",
       "      <td>long</td>\n",
       "      <td>365</td>\n",
       "      <td>1</td>\n",
       "    </tr>\n",
       "    <tr>\n",
       "      <th>4</th>\n",
       "      <td>2009/1/5</td>\n",
       "      <td>633</td>\n",
       "      <td>20</td>\n",
       "      <td>1.379803</td>\n",
       "      <td>-0.014207</td>\n",
       "      <td>967.2</td>\n",
       "      <td>0.931433</td>\n",
       "      <td>55.445545</td>\n",
       "      <td>36.960294</td>\n",
       "      <td>short</td>\n",
       "      <td>140</td>\n",
       "      <td>1</td>\n",
       "    </tr>\n",
       "    <tr>\n",
       "      <th>5</th>\n",
       "      <td>2009/1/5</td>\n",
       "      <td>612</td>\n",
       "      <td>20</td>\n",
       "      <td>1.377880</td>\n",
       "      <td>-0.014863</td>\n",
       "      <td>887.1</td>\n",
       "      <td>0.956236</td>\n",
       "      <td>30.769231</td>\n",
       "      <td>48.182703</td>\n",
       "      <td>long</td>\n",
       "      <td>309</td>\n",
       "      <td>1</td>\n",
       "    </tr>\n",
       "    <tr>\n",
       "      <th>6</th>\n",
       "      <td>2009/1/5</td>\n",
       "      <td>562</td>\n",
       "      <td>20</td>\n",
       "      <td>1.376947</td>\n",
       "      <td>-0.009693</td>\n",
       "      <td>867.6</td>\n",
       "      <td>0.978018</td>\n",
       "      <td>98.901099</td>\n",
       "      <td>62.667888</td>\n",
       "      <td>short</td>\n",
       "      <td>224</td>\n",
       "      <td>1</td>\n",
       "    </tr>\n",
       "    <tr>\n",
       "      <th>7</th>\n",
       "      <td>2009/1/6</td>\n",
       "      <td>625</td>\n",
       "      <td>20</td>\n",
       "      <td>1.373907</td>\n",
       "      <td>-0.010777</td>\n",
       "      <td>679.6</td>\n",
       "      <td>0.930831</td>\n",
       "      <td>29.473684</td>\n",
       "      <td>63.928002</td>\n",
       "      <td>long</td>\n",
       "      <td>-4</td>\n",
       "      <td>0</td>\n",
       "    </tr>\n",
       "    <tr>\n",
       "      <th>8</th>\n",
       "      <td>2009/1/6</td>\n",
       "      <td>295</td>\n",
       "      <td>20</td>\n",
       "      <td>1.371273</td>\n",
       "      <td>-0.008075</td>\n",
       "      <td>528.9</td>\n",
       "      <td>0.922715</td>\n",
       "      <td>37.777778</td>\n",
       "      <td>24.814815</td>\n",
       "      <td>short</td>\n",
       "      <td>455</td>\n",
       "      <td>1</td>\n",
       "    </tr>\n",
       "    <tr>\n",
       "      <th>9</th>\n",
       "      <td>2009/1/6</td>\n",
       "      <td>517</td>\n",
       "      <td>20</td>\n",
       "      <td>1.350817</td>\n",
       "      <td>-0.000753</td>\n",
       "      <td>939.8</td>\n",
       "      <td>0.952854</td>\n",
       "      <td>51.851852</td>\n",
       "      <td>80.997031</td>\n",
       "      <td>long</td>\n",
       "      <td>179</td>\n",
       "      <td>1</td>\n",
       "    </tr>\n",
       "  </tbody>\n",
       "</table>\n",
       "</div>"
      ],
      "text/plain": [
       "       time  tick_volume  spread  moving_average   bias_ma  volume_ma  \\\n",
       "0  2009/1/2          678      20        1.402423 -0.007718      783.0   \n",
       "1  2009/1/2          579      20        1.400623 -0.008584      775.8   \n",
       "2  2009/1/2          521      20        1.397657 -0.004047      681.7   \n",
       "3  2009/1/5          808      20        1.395407 -0.006956      567.4   \n",
       "4  2009/1/5          633      20        1.379803 -0.014207      967.2   \n",
       "5  2009/1/5          612      20        1.377880 -0.014863      887.1   \n",
       "6  2009/1/5          562      20        1.376947 -0.009693      867.6   \n",
       "7  2009/1/6          625      20        1.373907 -0.010777      679.6   \n",
       "8  2009/1/6          295      20        1.371273 -0.008075      528.9   \n",
       "9  2009/1/6          517      20        1.350817 -0.000753      939.8   \n",
       "\n",
       "   vol_change          K          D   type  profit  label  \n",
       "0    0.994286  59.000000  29.526940  short     149      1  \n",
       "1    0.974256  22.480620  50.904393   long     169      1  \n",
       "2    0.980299  74.766355  31.142187  short     314      1  \n",
       "3    0.947404  12.500000  56.391491   long     365      1  \n",
       "4    0.931433  55.445545  36.960294  short     140      1  \n",
       "5    0.956236  30.769231  48.182703   long     309      1  \n",
       "6    0.978018  98.901099  62.667888  short     224      1  \n",
       "7    0.930831  29.473684  63.928002   long      -4      0  \n",
       "8    0.922715  37.777778  24.814815  short     455      1  \n",
       "9    0.952854  51.851852  80.997031   long     179      1  "
      ]
     },
     "execution_count": 39,
     "metadata": {},
     "output_type": "execute_result"
    }
   ],
   "source": [
    "data.head(10)"
   ]
  },
  {
   "cell_type": "markdown",
   "id": "b5fb6eb6",
   "metadata": {},
   "source": [
    "### Objectives\n",
    "\n",
    "Due to the randomness of the market, which means if you enter a trade randomly, there will be only a 50% win rate for having a successful trade, which makes the market hard to predict whether a trade is successful or not. \n",
    "\n",
    "Hence, our goals include \n",
    "1. Use historical data to predict the position type of future date\n",
    "2. Maximize our profit\n",
    "3. Reduce wrong position type while entering a trade\n",
    "4. Exceed randomness probability (50%)"
   ]
  },
  {
   "cell_type": "markdown",
   "id": "bb72cac0",
   "metadata": {},
   "source": [
    "### First, Getting the answer right\n",
    "According to our data, we have a binary label that indicates it is a successful trade or not. Hence, if the trade is unsuccessful, we can change the type to another type, **i.e. short -> long**. This can make sure we get the correct answer for each trade. "
   ]
  },
  {
   "cell_type": "code",
   "execution_count": 40,
   "id": "02559b3f",
   "metadata": {},
   "outputs": [],
   "source": [
    "data['type'] = np.where(data.label == 0, np.where(data.type == 'short', 'long', 'short'), data.type)"
   ]
  },
  {
   "cell_type": "markdown",
   "id": "9957e3ce",
   "metadata": {},
   "source": [
    "We can see the data at index seven. The previous data shows it was a long position. However, after modification, it had changed into a short position, which is the correct answer, while others remain the same."
   ]
  },
  {
   "cell_type": "code",
   "execution_count": 41,
   "id": "4060c049",
   "metadata": {},
   "outputs": [
    {
     "data": {
      "text/html": [
       "<div>\n",
       "<style scoped>\n",
       "    .dataframe tbody tr th:only-of-type {\n",
       "        vertical-align: middle;\n",
       "    }\n",
       "\n",
       "    .dataframe tbody tr th {\n",
       "        vertical-align: top;\n",
       "    }\n",
       "\n",
       "    .dataframe thead th {\n",
       "        text-align: right;\n",
       "    }\n",
       "</style>\n",
       "<table border=\"1\" class=\"dataframe\">\n",
       "  <thead>\n",
       "    <tr style=\"text-align: right;\">\n",
       "      <th></th>\n",
       "      <th>time</th>\n",
       "      <th>tick_volume</th>\n",
       "      <th>spread</th>\n",
       "      <th>moving_average</th>\n",
       "      <th>bias_ma</th>\n",
       "      <th>volume_ma</th>\n",
       "      <th>vol_change</th>\n",
       "      <th>K</th>\n",
       "      <th>D</th>\n",
       "      <th>type</th>\n",
       "      <th>profit</th>\n",
       "      <th>label</th>\n",
       "    </tr>\n",
       "  </thead>\n",
       "  <tbody>\n",
       "    <tr>\n",
       "      <th>0</th>\n",
       "      <td>2009/1/2</td>\n",
       "      <td>678</td>\n",
       "      <td>20</td>\n",
       "      <td>1.402423</td>\n",
       "      <td>-0.007718</td>\n",
       "      <td>783.0</td>\n",
       "      <td>0.994286</td>\n",
       "      <td>59.000000</td>\n",
       "      <td>29.526940</td>\n",
       "      <td>short</td>\n",
       "      <td>149</td>\n",
       "      <td>1</td>\n",
       "    </tr>\n",
       "    <tr>\n",
       "      <th>1</th>\n",
       "      <td>2009/1/2</td>\n",
       "      <td>579</td>\n",
       "      <td>20</td>\n",
       "      <td>1.400623</td>\n",
       "      <td>-0.008584</td>\n",
       "      <td>775.8</td>\n",
       "      <td>0.974256</td>\n",
       "      <td>22.480620</td>\n",
       "      <td>50.904393</td>\n",
       "      <td>long</td>\n",
       "      <td>169</td>\n",
       "      <td>1</td>\n",
       "    </tr>\n",
       "    <tr>\n",
       "      <th>2</th>\n",
       "      <td>2009/1/2</td>\n",
       "      <td>521</td>\n",
       "      <td>20</td>\n",
       "      <td>1.397657</td>\n",
       "      <td>-0.004047</td>\n",
       "      <td>681.7</td>\n",
       "      <td>0.980299</td>\n",
       "      <td>74.766355</td>\n",
       "      <td>31.142187</td>\n",
       "      <td>short</td>\n",
       "      <td>314</td>\n",
       "      <td>1</td>\n",
       "    </tr>\n",
       "    <tr>\n",
       "      <th>3</th>\n",
       "      <td>2009/1/5</td>\n",
       "      <td>808</td>\n",
       "      <td>20</td>\n",
       "      <td>1.395407</td>\n",
       "      <td>-0.006956</td>\n",
       "      <td>567.4</td>\n",
       "      <td>0.947404</td>\n",
       "      <td>12.500000</td>\n",
       "      <td>56.391491</td>\n",
       "      <td>long</td>\n",
       "      <td>365</td>\n",
       "      <td>1</td>\n",
       "    </tr>\n",
       "    <tr>\n",
       "      <th>4</th>\n",
       "      <td>2009/1/5</td>\n",
       "      <td>633</td>\n",
       "      <td>20</td>\n",
       "      <td>1.379803</td>\n",
       "      <td>-0.014207</td>\n",
       "      <td>967.2</td>\n",
       "      <td>0.931433</td>\n",
       "      <td>55.445545</td>\n",
       "      <td>36.960294</td>\n",
       "      <td>short</td>\n",
       "      <td>140</td>\n",
       "      <td>1</td>\n",
       "    </tr>\n",
       "    <tr>\n",
       "      <th>5</th>\n",
       "      <td>2009/1/5</td>\n",
       "      <td>612</td>\n",
       "      <td>20</td>\n",
       "      <td>1.377880</td>\n",
       "      <td>-0.014863</td>\n",
       "      <td>887.1</td>\n",
       "      <td>0.956236</td>\n",
       "      <td>30.769231</td>\n",
       "      <td>48.182703</td>\n",
       "      <td>long</td>\n",
       "      <td>309</td>\n",
       "      <td>1</td>\n",
       "    </tr>\n",
       "    <tr>\n",
       "      <th>6</th>\n",
       "      <td>2009/1/5</td>\n",
       "      <td>562</td>\n",
       "      <td>20</td>\n",
       "      <td>1.376947</td>\n",
       "      <td>-0.009693</td>\n",
       "      <td>867.6</td>\n",
       "      <td>0.978018</td>\n",
       "      <td>98.901099</td>\n",
       "      <td>62.667888</td>\n",
       "      <td>short</td>\n",
       "      <td>224</td>\n",
       "      <td>1</td>\n",
       "    </tr>\n",
       "    <tr>\n",
       "      <th>7</th>\n",
       "      <td>2009/1/6</td>\n",
       "      <td>625</td>\n",
       "      <td>20</td>\n",
       "      <td>1.373907</td>\n",
       "      <td>-0.010777</td>\n",
       "      <td>679.6</td>\n",
       "      <td>0.930831</td>\n",
       "      <td>29.473684</td>\n",
       "      <td>63.928002</td>\n",
       "      <td>short</td>\n",
       "      <td>-4</td>\n",
       "      <td>0</td>\n",
       "    </tr>\n",
       "    <tr>\n",
       "      <th>8</th>\n",
       "      <td>2009/1/6</td>\n",
       "      <td>295</td>\n",
       "      <td>20</td>\n",
       "      <td>1.371273</td>\n",
       "      <td>-0.008075</td>\n",
       "      <td>528.9</td>\n",
       "      <td>0.922715</td>\n",
       "      <td>37.777778</td>\n",
       "      <td>24.814815</td>\n",
       "      <td>short</td>\n",
       "      <td>455</td>\n",
       "      <td>1</td>\n",
       "    </tr>\n",
       "    <tr>\n",
       "      <th>9</th>\n",
       "      <td>2009/1/6</td>\n",
       "      <td>517</td>\n",
       "      <td>20</td>\n",
       "      <td>1.350817</td>\n",
       "      <td>-0.000753</td>\n",
       "      <td>939.8</td>\n",
       "      <td>0.952854</td>\n",
       "      <td>51.851852</td>\n",
       "      <td>80.997031</td>\n",
       "      <td>long</td>\n",
       "      <td>179</td>\n",
       "      <td>1</td>\n",
       "    </tr>\n",
       "  </tbody>\n",
       "</table>\n",
       "</div>"
      ],
      "text/plain": [
       "       time  tick_volume  spread  moving_average   bias_ma  volume_ma  \\\n",
       "0  2009/1/2          678      20        1.402423 -0.007718      783.0   \n",
       "1  2009/1/2          579      20        1.400623 -0.008584      775.8   \n",
       "2  2009/1/2          521      20        1.397657 -0.004047      681.7   \n",
       "3  2009/1/5          808      20        1.395407 -0.006956      567.4   \n",
       "4  2009/1/5          633      20        1.379803 -0.014207      967.2   \n",
       "5  2009/1/5          612      20        1.377880 -0.014863      887.1   \n",
       "6  2009/1/5          562      20        1.376947 -0.009693      867.6   \n",
       "7  2009/1/6          625      20        1.373907 -0.010777      679.6   \n",
       "8  2009/1/6          295      20        1.371273 -0.008075      528.9   \n",
       "9  2009/1/6          517      20        1.350817 -0.000753      939.8   \n",
       "\n",
       "   vol_change          K          D   type  profit  label  \n",
       "0    0.994286  59.000000  29.526940  short     149      1  \n",
       "1    0.974256  22.480620  50.904393   long     169      1  \n",
       "2    0.980299  74.766355  31.142187  short     314      1  \n",
       "3    0.947404  12.500000  56.391491   long     365      1  \n",
       "4    0.931433  55.445545  36.960294  short     140      1  \n",
       "5    0.956236  30.769231  48.182703   long     309      1  \n",
       "6    0.978018  98.901099  62.667888  short     224      1  \n",
       "7    0.930831  29.473684  63.928002  short      -4      0  \n",
       "8    0.922715  37.777778  24.814815  short     455      1  \n",
       "9    0.952854  51.851852  80.997031   long     179      1  "
      ]
     },
     "execution_count": 41,
     "metadata": {},
     "output_type": "execute_result"
    }
   ],
   "source": [
    "data.head(10)"
   ]
  },
  {
   "cell_type": "markdown",
   "id": "9240e9a1",
   "metadata": {},
   "source": [
    "### Next, seperate validation and training dataset\n",
    "\n",
    "In this part, our goal is to predict unseen data from historical data. Hence, we need to have some data for validation and avoid leaking to the training model. So here, we take 16% out of the data to be our validation set. \n",
    "\n",
    "You might ask why 16%, not 30% or 21%? \n",
    "\n",
    "\n",
    "After testing different values, 16% is the best for training a model. So, make sure you test many parameters as you can before finalising your model."
   ]
  },
  {
   "cell_type": "code",
   "execution_count": 42,
   "id": "058fdc1b",
   "metadata": {},
   "outputs": [],
   "source": [
    "val_data, training_data = data.iloc[-1 * int(len(data)/6):, :], data.iloc[:-1 * int(len(data)/6), :]"
   ]
  },
  {
   "cell_type": "code",
   "execution_count": 43,
   "id": "3b59bbcc",
   "metadata": {},
   "outputs": [
    {
     "data": {
      "text/plain": [
       "(7097, 12)"
      ]
     },
     "execution_count": 43,
     "metadata": {},
     "output_type": "execute_result"
    }
   ],
   "source": [
    "training_data.shape"
   ]
  },
  {
   "cell_type": "code",
   "execution_count": 44,
   "id": "245e6b27",
   "metadata": {},
   "outputs": [
    {
     "data": {
      "text/plain": [
       "(1419, 12)"
      ]
     },
     "execution_count": 44,
     "metadata": {},
     "output_type": "execute_result"
    }
   ],
   "source": [
    "val_data.shape"
   ]
  },
  {
   "cell_type": "markdown",
   "id": "1a51fb80",
   "metadata": {},
   "source": [
    "### Column Standardization \n",
    "Next, we need to rescale specific columns to make sure the value is between 0 and 1 to distort the differences in the range of the values. \n",
    "- tick_volume: Have huge range difference in the market. Need to scale.\n",
    "- K: K is always between 0 to 100. No need to scale.\n",
    "- D: D is similar to K and always sits between 0 to 100. No need to scale."
   ]
  },
  {
   "cell_type": "code",
   "execution_count": 45,
   "id": "3463efa3",
   "metadata": {},
   "outputs": [],
   "source": [
    "sc = StandardScaler()\n",
    "\n",
    "training_data[['tick_volume']] = sc.fit_transform(training_data[['tick_volume']])\n",
    "val_data[['tick_volume']] = sc.transform(val_data[['tick_volume']])"
   ]
  },
  {
   "cell_type": "code",
   "execution_count": 46,
   "id": "2330fbfa",
   "metadata": {},
   "outputs": [
    {
     "data": {
      "text/html": [
       "<div>\n",
       "<style scoped>\n",
       "    .dataframe tbody tr th:only-of-type {\n",
       "        vertical-align: middle;\n",
       "    }\n",
       "\n",
       "    .dataframe tbody tr th {\n",
       "        vertical-align: top;\n",
       "    }\n",
       "\n",
       "    .dataframe thead th {\n",
       "        text-align: right;\n",
       "    }\n",
       "</style>\n",
       "<table border=\"1\" class=\"dataframe\">\n",
       "  <thead>\n",
       "    <tr style=\"text-align: right;\">\n",
       "      <th></th>\n",
       "      <th>time</th>\n",
       "      <th>tick_volume</th>\n",
       "      <th>spread</th>\n",
       "      <th>moving_average</th>\n",
       "      <th>bias_ma</th>\n",
       "      <th>volume_ma</th>\n",
       "      <th>vol_change</th>\n",
       "      <th>K</th>\n",
       "      <th>D</th>\n",
       "      <th>type</th>\n",
       "      <th>profit</th>\n",
       "      <th>label</th>\n",
       "    </tr>\n",
       "  </thead>\n",
       "  <tbody>\n",
       "    <tr>\n",
       "      <th>0</th>\n",
       "      <td>2009/1/2</td>\n",
       "      <td>-0.812221</td>\n",
       "      <td>20</td>\n",
       "      <td>1.402423</td>\n",
       "      <td>-0.007718</td>\n",
       "      <td>783.0</td>\n",
       "      <td>0.994286</td>\n",
       "      <td>59.000000</td>\n",
       "      <td>29.526940</td>\n",
       "      <td>short</td>\n",
       "      <td>149</td>\n",
       "      <td>1</td>\n",
       "    </tr>\n",
       "    <tr>\n",
       "      <th>1</th>\n",
       "      <td>2009/1/2</td>\n",
       "      <td>-0.831648</td>\n",
       "      <td>20</td>\n",
       "      <td>1.400623</td>\n",
       "      <td>-0.008584</td>\n",
       "      <td>775.8</td>\n",
       "      <td>0.974256</td>\n",
       "      <td>22.480620</td>\n",
       "      <td>50.904393</td>\n",
       "      <td>long</td>\n",
       "      <td>169</td>\n",
       "      <td>1</td>\n",
       "    </tr>\n",
       "    <tr>\n",
       "      <th>2</th>\n",
       "      <td>2009/1/2</td>\n",
       "      <td>-0.843030</td>\n",
       "      <td>20</td>\n",
       "      <td>1.397657</td>\n",
       "      <td>-0.004047</td>\n",
       "      <td>681.7</td>\n",
       "      <td>0.980299</td>\n",
       "      <td>74.766355</td>\n",
       "      <td>31.142187</td>\n",
       "      <td>short</td>\n",
       "      <td>314</td>\n",
       "      <td>1</td>\n",
       "    </tr>\n",
       "    <tr>\n",
       "      <th>3</th>\n",
       "      <td>2009/1/5</td>\n",
       "      <td>-0.786710</td>\n",
       "      <td>20</td>\n",
       "      <td>1.395407</td>\n",
       "      <td>-0.006956</td>\n",
       "      <td>567.4</td>\n",
       "      <td>0.947404</td>\n",
       "      <td>12.500000</td>\n",
       "      <td>56.391491</td>\n",
       "      <td>long</td>\n",
       "      <td>365</td>\n",
       "      <td>1</td>\n",
       "    </tr>\n",
       "    <tr>\n",
       "      <th>4</th>\n",
       "      <td>2009/1/5</td>\n",
       "      <td>-0.821051</td>\n",
       "      <td>20</td>\n",
       "      <td>1.379803</td>\n",
       "      <td>-0.014207</td>\n",
       "      <td>967.2</td>\n",
       "      <td>0.931433</td>\n",
       "      <td>55.445545</td>\n",
       "      <td>36.960294</td>\n",
       "      <td>short</td>\n",
       "      <td>140</td>\n",
       "      <td>1</td>\n",
       "    </tr>\n",
       "  </tbody>\n",
       "</table>\n",
       "</div>"
      ],
      "text/plain": [
       "       time  tick_volume  spread  moving_average   bias_ma  volume_ma  \\\n",
       "0  2009/1/2    -0.812221      20        1.402423 -0.007718      783.0   \n",
       "1  2009/1/2    -0.831648      20        1.400623 -0.008584      775.8   \n",
       "2  2009/1/2    -0.843030      20        1.397657 -0.004047      681.7   \n",
       "3  2009/1/5    -0.786710      20        1.395407 -0.006956      567.4   \n",
       "4  2009/1/5    -0.821051      20        1.379803 -0.014207      967.2   \n",
       "\n",
       "   vol_change          K          D   type  profit  label  \n",
       "0    0.994286  59.000000  29.526940  short     149      1  \n",
       "1    0.974256  22.480620  50.904393   long     169      1  \n",
       "2    0.980299  74.766355  31.142187  short     314      1  \n",
       "3    0.947404  12.500000  56.391491   long     365      1  \n",
       "4    0.931433  55.445545  36.960294  short     140      1  "
      ]
     },
     "execution_count": 46,
     "metadata": {},
     "output_type": "execute_result"
    }
   ],
   "source": [
    "training_data.head()"
   ]
  },
  {
   "cell_type": "markdown",
   "id": "e94f7cee",
   "metadata": {},
   "source": [
    "### Setup baseline\n",
    "Our goal is to maximise our profit and success rate from unseen data. Hence, we need to understand our validation dataset's profit and success rate. We can see our baseline profit is 10,538, and our success rate is 68.9% "
   ]
  },
  {
   "cell_type": "code",
   "execution_count": 47,
   "id": "7a445e3b",
   "metadata": {},
   "outputs": [
    {
     "name": "stdout",
     "output_type": "stream",
     "text": [
      "Validation Set Initial Profit 10538\n",
      "Validation data Initial win rate 0.6892177589852009\n"
     ]
    }
   ],
   "source": [
    "print(f'Validation Set Initial Profit {sum(val_data.profit)}')\n",
    "print(f'Validation data Initial win rate {len(val_data[val_data.label == 1]) / len(val_data)}')"
   ]
  },
  {
   "cell_type": "markdown",
   "id": "f71bbf20",
   "metadata": {},
   "source": [
    "## Build our model\n",
    "So, our baseline profit is 10,538, and the win rate is 68.92%. Now we can start building our model. There are four different processes include\n",
    "1. Feature Selection\n",
    "2. Model Evaluation\n",
    "3. Optimize Hyperparameter\n",
    "4. Finalize Model"
   ]
  },
  {
   "cell_type": "markdown",
   "id": "3523b7f8",
   "metadata": {},
   "source": [
    "### Feature Selection\n"
   ]
  },
  {
   "cell_type": "code",
   "execution_count": 53,
   "id": "5e2a6d19",
   "metadata": {},
   "outputs": [],
   "source": [
    "features_column = ['tick_volume', 'moving_average', 'bias_ma', 'volume_ma', 'vol_change','K', 'D']"
   ]
  },
  {
   "cell_type": "code",
   "execution_count": 54,
   "id": "6f5a67f0",
   "metadata": {},
   "outputs": [],
   "source": [
    "train_feature = training_data[features_column]\n",
    "train_label = training_data['type']"
   ]
  },
  {
   "cell_type": "code",
   "execution_count": 57,
   "id": "8c287a7e",
   "metadata": {},
   "outputs": [
    {
     "data": {
      "text/html": [
       "<div>\n",
       "<style scoped>\n",
       "    .dataframe tbody tr th:only-of-type {\n",
       "        vertical-align: middle;\n",
       "    }\n",
       "\n",
       "    .dataframe tbody tr th {\n",
       "        vertical-align: top;\n",
       "    }\n",
       "\n",
       "    .dataframe thead th {\n",
       "        text-align: right;\n",
       "    }\n",
       "</style>\n",
       "<table border=\"1\" class=\"dataframe\">\n",
       "  <thead>\n",
       "    <tr style=\"text-align: right;\">\n",
       "      <th></th>\n",
       "      <th>tick_volume</th>\n",
       "      <th>moving_average</th>\n",
       "      <th>bias_ma</th>\n",
       "      <th>volume_ma</th>\n",
       "      <th>vol_change</th>\n",
       "      <th>K</th>\n",
       "      <th>D</th>\n",
       "    </tr>\n",
       "  </thead>\n",
       "  <tbody>\n",
       "    <tr>\n",
       "      <th>0</th>\n",
       "      <td>-0.812221</td>\n",
       "      <td>1.402423</td>\n",
       "      <td>-0.007718</td>\n",
       "      <td>783.0</td>\n",
       "      <td>0.994286</td>\n",
       "      <td>59.000000</td>\n",
       "      <td>29.526940</td>\n",
       "    </tr>\n",
       "    <tr>\n",
       "      <th>1</th>\n",
       "      <td>-0.831648</td>\n",
       "      <td>1.400623</td>\n",
       "      <td>-0.008584</td>\n",
       "      <td>775.8</td>\n",
       "      <td>0.974256</td>\n",
       "      <td>22.480620</td>\n",
       "      <td>50.904393</td>\n",
       "    </tr>\n",
       "    <tr>\n",
       "      <th>2</th>\n",
       "      <td>-0.843030</td>\n",
       "      <td>1.397657</td>\n",
       "      <td>-0.004047</td>\n",
       "      <td>681.7</td>\n",
       "      <td>0.980299</td>\n",
       "      <td>74.766355</td>\n",
       "      <td>31.142187</td>\n",
       "    </tr>\n",
       "    <tr>\n",
       "      <th>3</th>\n",
       "      <td>-0.786710</td>\n",
       "      <td>1.395407</td>\n",
       "      <td>-0.006956</td>\n",
       "      <td>567.4</td>\n",
       "      <td>0.947404</td>\n",
       "      <td>12.500000</td>\n",
       "      <td>56.391491</td>\n",
       "    </tr>\n",
       "    <tr>\n",
       "      <th>4</th>\n",
       "      <td>-0.821051</td>\n",
       "      <td>1.379803</td>\n",
       "      <td>-0.014207</td>\n",
       "      <td>967.2</td>\n",
       "      <td>0.931433</td>\n",
       "      <td>55.445545</td>\n",
       "      <td>36.960294</td>\n",
       "    </tr>\n",
       "  </tbody>\n",
       "</table>\n",
       "</div>"
      ],
      "text/plain": [
       "   tick_volume  moving_average   bias_ma  volume_ma  vol_change          K  \\\n",
       "0    -0.812221        1.402423 -0.007718      783.0    0.994286  59.000000   \n",
       "1    -0.831648        1.400623 -0.008584      775.8    0.974256  22.480620   \n",
       "2    -0.843030        1.397657 -0.004047      681.7    0.980299  74.766355   \n",
       "3    -0.786710        1.395407 -0.006956      567.4    0.947404  12.500000   \n",
       "4    -0.821051        1.379803 -0.014207      967.2    0.931433  55.445545   \n",
       "\n",
       "           D  \n",
       "0  29.526940  \n",
       "1  50.904393  \n",
       "2  31.142187  \n",
       "3  56.391491  \n",
       "4  36.960294  "
      ]
     },
     "execution_count": 57,
     "metadata": {},
     "output_type": "execute_result"
    }
   ],
   "source": [
    "train_feature.head()"
   ]
  },
  {
   "cell_type": "code",
   "execution_count": 58,
   "id": "56aa9412",
   "metadata": {},
   "outputs": [
    {
     "data": {
      "text/plain": [
       "0    short\n",
       "1     long\n",
       "2    short\n",
       "3     long\n",
       "4    short\n",
       "Name: type, dtype: object"
      ]
     },
     "execution_count": 58,
     "metadata": {},
     "output_type": "execute_result"
    }
   ],
   "source": [
    "train_label.head()"
   ]
  },
  {
   "cell_type": "code",
   "execution_count": 55,
   "id": "932d4739",
   "metadata": {},
   "outputs": [],
   "source": [
    "val_feature = val_data[features_column]\n",
    "val_label = val_data['type']"
   ]
  },
  {
   "cell_type": "markdown",
   "id": "999e6da0",
   "metadata": {},
   "source": [
    "### Model Evaluation\n",
    "Here we use logistic regression and random forest classifier as our model to check the model capacity. Don't forget our main objective is to maximise our profit. So, we care about the total profit that the model can give. \n",
    "\n",
    "The result shows logistic regression has a lower performance than our baseline. So, we will not consider logistic regression for our model for now. However, the random forest classifier has exceeded our baseline, which can be passed forward to the next step."
   ]
  },
  {
   "cell_type": "markdown",
   "id": "79b5c3cb",
   "metadata": {},
   "source": [
    "#### Logistic Regression"
   ]
  },
  {
   "cell_type": "code",
   "execution_count": 70,
   "id": "b45fab74",
   "metadata": {},
   "outputs": [
    {
     "name": "stdout",
     "output_type": "stream",
     "text": [
      "Accuracy - 0.6765\n",
      "Total Profit - 10120\n"
     ]
    }
   ],
   "source": [
    "lr = LogisticRegression()\n",
    "lr.fit(train_feature, train_label)\n",
    "print(f\"Accuracy - {round(accuracy_score(lr.predict(val_feature), val_label), 4)}\")\n",
    "\n",
    "val_data['predict'] = lr.predict(val_feature)\n",
    "val_data['correct'] = np.where(val_data.type == val_data.predict, 1, 0)\n",
    "val_data['abs_profit'] = abs(val_data.profit)\n",
    "total = sum(val_data[val_data.correct == 1].abs_profit) - sum(val_data[val_data.correct == 0].abs_profit)\n",
    "print(f\"Total Profit - {total}\")"
   ]
  },
  {
   "cell_type": "markdown",
   "id": "9920cd25",
   "metadata": {},
   "source": [
    "#### Random Forest Classifier"
   ]
  },
  {
   "cell_type": "code",
   "execution_count": 73,
   "id": "0e8d6f29",
   "metadata": {},
   "outputs": [
    {
     "name": "stdout",
     "output_type": "stream",
     "text": [
      "Accuracy - 0.6631\n",
      "Total Profit - 12866\n"
     ]
    }
   ],
   "source": [
    "rfc = RandomForestClassifier()\n",
    "rfc.fit(train_feature, train_label)\n",
    "print(f\"Accuracy - {round(accuracy_score(rfc.predict(val_feature), val_label), 4)}\")\n",
    "\n",
    "val_data['predict'] = rfc.predict(val_feature)\n",
    "val_data['correct'] = np.where(val_data.type == val_data.predict, 1, 0)\n",
    "val_data['abs_profit'] = abs(val_data.profit)\n",
    "total = sum(val_data[val_data.correct == 1].abs_profit) - sum(val_data[val_data.correct == 0].abs_profit)\n",
    "print(f\"Total Profit - {total}\")"
   ]
  },
  {
   "cell_type": "markdown",
   "id": "2c1152ce",
   "metadata": {},
   "source": [
    "### Hyperparameter Tuning\n",
    "Because we are using unseen data (validation set) to evaluate our model, so, to avoid overfitting, we need to prune the tree. Here, we test several parameters on the number of trees(n_estimator) and the depth of a tree. After 25 times running, we can get a good hyperparameter for our random forest classifier model."
   ]
  },
  {
   "cell_type": "code",
   "execution_count": 86,
   "id": "6f707e1b",
   "metadata": {},
   "outputs": [],
   "source": [
    "n_estimator = [5, 10, 30, 50, 100]\n",
    "max_depth = [2, 10, 21, 30, 50]\n",
    "count = 0\n",
    "parameter_result = {}\n",
    "for est in n_estimator:\n",
    "    for dep in max_depth:\n",
    "        count = 0\n",
    "        batch_total = []\n",
    "        while count < 25:\n",
    "            rfc = RandomForestClassifier(n_estimators=est, max_depth=dep, n_jobs=-1)\n",
    "            rfc.fit(train_feature, train_label)\n",
    "            val_data['predict'] = rfc.predict(val_feature)\n",
    "            val_data['correct'] = np.where(val_data.type == val_data.predict, 1, 0)\n",
    "            val_data['abs_profit'] = abs(val_data.profit)\n",
    "            total = sum(val_data[val_data.correct == 1].abs_profit) - sum(val_data[val_data.correct == 0].abs_profit)\n",
    "            batch_total.append(total)\n",
    "            count += 1\n",
    "        parameter_result[(est, dep)] = np.mean(batch_total)"
   ]
  },
  {
   "cell_type": "code",
   "execution_count": 87,
   "id": "d5e64bba",
   "metadata": {},
   "outputs": [
    {
     "data": {
      "text/plain": [
       "{(5, 2): 10050.88,\n",
       " (5, 10): 8573.2,\n",
       " (5, 21): 7582.16,\n",
       " (5, 30): 7833.12,\n",
       " (5, 50): 6810.24,\n",
       " (10, 2): 10280.64,\n",
       " (10, 10): 10327.52,\n",
       " (10, 21): 7136.32,\n",
       " (10, 30): 8236.56,\n",
       " (10, 50): 8420.16,\n",
       " (30, 2): 10457.44,\n",
       " (30, 10): 10502.24,\n",
       " (30, 21): 11047.28,\n",
       " (30, 30): 10927.84,\n",
       " (30, 50): 11349.84,\n",
       " (50, 2): 10546.88,\n",
       " (50, 10): 10819.2,\n",
       " (50, 21): 11406.24,\n",
       " (50, 30): 10628.32,\n",
       " (50, 50): 11313.04,\n",
       " (100, 2): 11169.04,\n",
       " (100, 10): 10584.96,\n",
       " (100, 21): 11796.56,\n",
       " (100, 30): 11026.88,\n",
       " (100, 50): 11287.2}"
      ]
     },
     "execution_count": 87,
     "metadata": {},
     "output_type": "execute_result"
    }
   ],
   "source": [
    "parameter_result"
   ]
  },
  {
   "cell_type": "markdown",
   "id": "65001ca5",
   "metadata": {},
   "source": [
    "However, due to the nature of the ensemble technique, the random forest classifier uses the bagging principle to build trees by selecting different features for each tree and doing a majority vote at the end. So, we need to run our model several times to find the best model closer to our objectives with a small drawdown.  "
   ]
  },
  {
   "cell_type": "code",
   "execution_count": 101,
   "id": "4055e264",
   "metadata": {},
   "outputs": [],
   "source": [
    "def find_best_model(feature, label, val_data, val_feature, baseline=10538):\n",
    "    while True:\n",
    "        model = RandomForestClassifier(n_estimators=30, max_depth=21, n_jobs=-1)\n",
    "        model.fit(feature, label)\n",
    "        val_data['predict'] = model.predict(val_feature)\n",
    "        val_data['correct'] = np.where(val_data.type == val_data.predict, 1, 0)\n",
    "        val_data['abs_profit'] = abs(val_data.profit)\n",
    "        total = sum(val_data[val_data.correct == 1].abs_profit) - sum(val_data[val_data.correct == 0].abs_profit)\n",
    "        if total > baseline:\n",
    "            return model, total"
   ]
  },
  {
   "cell_type": "markdown",
   "id": "12995a7c",
   "metadata": {},
   "source": [
    "We need to check the performance of our model with customised metrics. Our objective is to maximise our profit and get the wrong answer correct as much as possible. However, our primary goal is to get as much profit as we can, so we can tolerate some drawbacks of prediction correctness. \n",
    "\n",
    "We set up four different metrics, which include\n",
    "1. wsw - win still win\n",
    "2. ltw - lose turn win\n",
    "3. lsl - lose still lose\n",
    "4. wtl - win turn lose\n"
   ]
  },
  {
   "cell_type": "code",
   "execution_count": 99,
   "id": "3cbd4514",
   "metadata": {},
   "outputs": [],
   "source": [
    "def metrics(val_data):\n",
    "    wsw = len(val_data[(val_data.type == val_data.predict) & (val_data.label == 1)])\n",
    "    ltw = len(val_data[(val_data.type == val_data.predict) & (val_data.label == 0)])\n",
    "    lsl = len(val_data[(val_data.type != val_data.predict) & (val_data.label == 0)])\n",
    "    wtl = len(val_data[(val_data.type != val_data.predict) & (val_data.label == 1)])\n",
    "    print(wsw, ltw, lsl, wtl)"
   ]
  },
  {
   "cell_type": "markdown",
   "id": "f56d0930",
   "metadata": {},
   "source": [
    "After three trials, our model becomes better and better, but here we can see the third model. It has a higher profit but a low wsw, ltw rate and high wtl rate, which indicates it is not a good model to use. So, we need to train repeatedly to find the best model to use."
   ]
  },
  {
   "cell_type": "code",
   "execution_count": 114,
   "id": "eb9aeab8",
   "metadata": {},
   "outputs": [
    {
     "name": "stdout",
     "output_type": "stream",
     "text": [
      "Profit for this model - 15406\n",
      "\n",
      "------ metrics -------\n",
      "871 72 369 107\n"
     ]
    }
   ],
   "source": [
    "first_attempt, first_profit = find_best_model(train_feature, train_label, val_data, val_feature, baseline=10538)\n",
    "print(f\"Profit for this model - {first_profit}\")\n",
    "val_data['predict'] = first_attempt.predict(val_feature)\n",
    "print(\"\\n------ metrics -------\")\n",
    "metrics(val_data)"
   ]
  },
  {
   "cell_type": "code",
   "execution_count": 115,
   "id": "219e6768",
   "metadata": {},
   "outputs": [
    {
     "name": "stdout",
     "output_type": "stream",
     "text": [
      "Profit for this model - 15494\n",
      "\n",
      "------ metrics -------\n",
      "876 64 377 102\n"
     ]
    }
   ],
   "source": [
    "second_attempt, second_profit = find_best_model(train_feature, train_label, val_data, val_feature, baseline=first_profit)\n",
    "\n",
    "print(f\"Profit for this model - {second_profit}\")\n",
    "val_data['predict'] = second_attempt.predict(val_feature)\n",
    "print(\"\\n------ metrics -------\")\n",
    "metrics(val_data)"
   ]
  },
  {
   "cell_type": "code",
   "execution_count": 116,
   "id": "cd3ff263",
   "metadata": {
    "scrolled": true
   },
   "outputs": [
    {
     "name": "stdout",
     "output_type": "stream",
     "text": [
      "Profit for this model - 15674\n",
      "\n",
      "------ metrics -------\n",
      "867 63 378 111\n"
     ]
    }
   ],
   "source": [
    "third_attempt, third_profit = find_best_model(train_feature, train_label, val_data, val_feature, baseline=second_profit)\n",
    "\n",
    "print(f\"Profit for this model - {third_profit}\")\n",
    "val_data['predict'] = third_attempt.predict(val_feature)\n",
    "print(\"\\n------ metrics -------\")\n",
    "metrics(val_data)"
   ]
  }
 ],
 "metadata": {
  "kernelspec": {
   "display_name": "Python 3 (ipykernel)",
   "language": "python",
   "name": "python3"
  },
  "language_info": {
   "codemirror_mode": {
    "name": "ipython",
    "version": 3
   },
   "file_extension": ".py",
   "mimetype": "text/x-python",
   "name": "python",
   "nbconvert_exporter": "python",
   "pygments_lexer": "ipython3",
   "version": "3.9.7"
  }
 },
 "nbformat": 4,
 "nbformat_minor": 5
}
